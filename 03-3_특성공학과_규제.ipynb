{
 "cells": [
  {
   "cell_type": "code",
   "execution_count": 62,
   "metadata": {},
   "outputs": [
    {
     "name": "stdout",
     "output_type": "stream",
     "text": [
      "   length   height   width\n",
      "0     8.4     2.11    1.41\n",
      "1    13.7     3.53    2.00\n",
      "2    15.0     3.82    2.43\n",
      "3    16.2     4.59    2.63\n",
      "4    17.4     4.59    2.94\n"
     ]
    }
   ],
   "source": [
    "import pandas as pd\n",
    "df = pd.read_csv('https://bit.ly/perch_csv_data')\n",
    "print(df.head())\n",
    "perch_full = df.to_numpy()\n",
    "\n",
    "\n",
    "import numpy as np\n",
    "\n",
    "perch_weight = np.array([5.9, 32.0, 40.0, 51.5, 70.0, 100.0, 78.0, 80.0, 85.0, 85.0, 110.0,\n",
    "       115.0, 125.0, 130.0, 120.0, 120.0, 130.0, 135.0, 110.0, 130.0,\n",
    "       150.0, 145.0, 150.0, 170.0, 225.0, 145.0, 188.0, 180.0, 197.0,\n",
    "       218.0, 300.0, 260.0, 265.0, 250.0, 250.0, 300.0, 320.0, 514.0,\n",
    "       556.0, 840.0, 685.0, 700.0, 700.0, 690.0, 900.0, 650.0, 820.0,\n",
    "       850.0, 900.0, 1015.0, 820.0, 1100.0, 1000.0, 1100.0, 1000.0,\n",
    "       1000.0])\n",
    "\n",
    "from sklearn.model_selection import train_test_split\n",
    "x_train,x_test, y_train,y_test = train_test_split(perch_full,perch_weight)\n",
    "# => 세가지 특성을 이용해 새로운 특성을 만들어낸다"
   ]
  },
  {
   "cell_type": "code",
   "execution_count": 63,
   "metadata": {},
   "outputs": [
    {
     "name": "stdout",
     "output_type": "stream",
     "text": [
      "[[1. 2. 3. 4. 6. 9.]]\n",
      "[[2. 3. 4. 6. 9.]]\n"
     ]
    }
   ],
   "source": [
    "from sklearn.preprocessing import PolynomialFeatures\n",
    "\n",
    "poly = PolynomialFeatures()\n",
    "poly.fit([[2,3]])\n",
    "print(poly.transform([[2,3]]))\n",
    "\n",
    "# 무게 = a*길이 + b*높이 + c*두께 + d*1 \n",
    "# 절편항은 필요없기때문에 뺀다\n",
    "poly = PolynomialFeatures(include_bias=False) # 명시적\n",
    "poly.fit([[2,3]])\n",
    "print(poly.transform([[2,3]]))\n"
   ]
  },
  {
   "cell_type": "code",
   "execution_count": 64,
   "metadata": {},
   "outputs": [
    {
     "name": "stdout",
     "output_type": "stream",
     "text": [
      "(42, 10)\n",
      "['1' 'x0' 'x1' 'x2' 'x0^2' 'x0 x1' 'x0 x2' 'x1^2' 'x1 x2' 'x2^2']\n"
     ]
    }
   ],
   "source": [
    "poly = PolynomialFeatures()\n",
    "poly.fit(x_train)\n",
    "x_train_poly = poly.transform(x_train)\n",
    "print(x_train_poly.shape)\n",
    "# 1을 제외한 9개의 특성이 어떻게 만들어졌는지 확인\n",
    "print(poly.get_feature_names_out())\n",
    "\n",
    "x_test_poly = poly.transform(x_test)"
   ]
  },
  {
   "cell_type": "code",
   "execution_count": 65,
   "metadata": {},
   "outputs": [
    {
     "name": "stdout",
     "output_type": "stream",
     "text": [
      "0.9969864930856169\n",
      "0.8783132612814325\n"
     ]
    }
   ],
   "source": [
    "from sklearn.linear_model import LinearRegression\n",
    "lr = LinearRegression()\n",
    "lr.fit(x_train_poly, y_train)\n",
    "print(lr.score(x_train_poly,y_train))\n",
    "print(lr.score(x_test_poly,y_test))"
   ]
  },
  {
   "cell_type": "code",
   "execution_count": 66,
   "metadata": {},
   "outputs": [
    {
     "name": "stdout",
     "output_type": "stream",
     "text": [
      "(42, 55)\n",
      "0.9999999999999579\n",
      "-30867.506188090658\n"
     ]
    }
   ],
   "source": [
    "poly = PolynomialFeatures(degree=5,include_bias=False) # 최고차항수를 늘리면 특성이 늘어난다.\n",
    "poly.fit(x_train)\n",
    "x_train_poly = poly.transform(x_train)\n",
    "print(x_train_poly.shape)\n",
    "x_test_poly = poly.transform(x_test)\n",
    "\n",
    "lr.fit(x_train_poly, y_train)\n",
    "print(lr.score(x_train_poly,y_train))\n",
    "print(lr.score(x_test_poly,y_test))\n",
    "# 테스트셋의 점수가 음수가 나왔다.\n",
    "# 특성갯수가 많아져서 모델이 훈련셋을 완벽하게 학습해서 과대적합 되었기 때문이다.\n",
    "# => 규제와 스케일을 해볼것이다."
   ]
  },
  {
   "cell_type": "code",
   "execution_count": 67,
   "metadata": {},
   "outputs": [
    {
     "name": "stdout",
     "output_type": "stream",
     "text": [
      "0.997214995965383\n",
      "0.9099279443333178\n"
     ]
    }
   ],
   "source": [
    "from sklearn.preprocessing import StandardScaler\n",
    "scaler = StandardScaler()\n",
    "scaler.fit(x_train_poly)\n",
    "x_train_scaled = scaler.transform(x_train_poly)\n",
    "x_test_scaled = scaler.transform(x_test_poly)\n",
    "\n",
    "from sklearn.linear_model import Ridge\n",
    "ridge = Ridge()\n",
    "ridge.fit(x_train_scaled, y_train)\n",
    "print(ridge.score(x_train_scaled, y_train))\n",
    "print(ridge.score(x_test_scaled, y_test))\n",
    "\n",
    "# alpha는 규제의 강도를 뜻한다. 적절한 값을 찾기위해서 R2그래프를 그려보아야 한다.\n",
    "\n"
   ]
  },
  {
   "cell_type": "code",
   "execution_count": 68,
   "metadata": {},
   "outputs": [
    {
     "data": {
      "image/png": "[encoded data removed]",
      "text/plain": [
       "<Figure size 640x480 with 1 Axes>"
      ]
     },
     "metadata": {},
     "output_type": "display_data"
    }
   ],
   "source": [
    "import matplotlib.pyplot as plt\n",
    "train_score =[]\n",
    "test_score = []\n",
    "alpha_list = [0.001, 0.01, 0.1, 1, 10, 100]\n",
    "for alpha in alpha_list:\n",
    "    ridge = Ridge(alpha= alpha)\n",
    "    ridge.fit(x_train_scaled,y_train)\n",
    "    train_score.append(ridge.score(x_train_scaled,y_train))\n",
    "    test_score.append(ridge.score(x_test_scaled, y_test))\n",
    "    \n",
    "plt.plot(np.log10(alpha_list), train_score)\n",
    "plt.plot(np.log10(alpha_list), test_score)\n",
    "plt.xlabel('alpha')\n",
    "plt.ylabel('R^2')\n",
    "plt.show()\n",
    "\n",
    "# alphs == 1  즉 10^1=10 에서 가장 이상적인듯하다"
   ]
  },
  {
   "cell_type": "code",
   "execution_count": 69,
   "metadata": {},
   "outputs": [
    {
     "name": "stdout",
     "output_type": "stream",
     "text": [
      "0.9934339840579514\n",
      "0.944524730233808\n"
     ]
    }
   ],
   "source": [
    "ridge = Ridge(alpha= 10)\n",
    "ridge.fit(x_train_scaled,y_train)\n",
    "print(ridge.score(x_train_scaled,y_train))\n",
    "print(ridge.score(x_test_scaled, y_test))"
   ]
  },
  {
   "cell_type": "code",
   "execution_count": 73,
   "metadata": {},
   "outputs": [
    {
     "name": "stderr",
     "output_type": "stream",
     "text": [
      "c:\\Users\\82105\\AppData\\Local\\Programs\\Python\\Python311\\Lib\\site-packages\\sklearn\\linear_model\\_coordinate_descent.py:628: ConvergenceWarning: Objective did not converge. You might want to increase the number of iterations, check the scale of the features or consider increasing regularisation. Duality gap: 7.770e+02, tolerance: 3.492e+02\n",
      "  model = cd_fast.enet_coordinate_descent(\n",
      "c:\\Users\\82105\\AppData\\Local\\Programs\\Python\\Python311\\Lib\\site-packages\\sklearn\\linear_model\\_coordinate_descent.py:628: ConvergenceWarning: Objective did not converge. You might want to increase the number of iterations, check the scale of the features or consider increasing regularisation. Duality gap: 2.931e+03, tolerance: 3.492e+02\n",
      "  model = cd_fast.enet_coordinate_descent(\n",
      "c:\\Users\\82105\\AppData\\Local\\Programs\\Python\\Python311\\Lib\\site-packages\\sklearn\\linear_model\\_coordinate_descent.py:628: ConvergenceWarning: Objective did not converge. You might want to increase the number of iterations, check the scale of the features or consider increasing regularisation. Duality gap: 1.050e+03, tolerance: 3.492e+02\n",
      "  model = cd_fast.enet_coordinate_descent(\n"
     ]
    },
    {
     "name": "stdout",
     "output_type": "stream",
     "text": [
      "0.9964724445540261\n",
      "0.920124589773379\n",
      "0.9928114076751346\n",
      "0.938429926426725\n"
     ]
    },
    {
     "name": "stderr",
     "output_type": "stream",
     "text": [
      "c:\\Users\\82105\\AppData\\Local\\Programs\\Python\\Python311\\Lib\\site-packages\\sklearn\\linear_model\\_coordinate_descent.py:628: ConvergenceWarning: Objective did not converge. You might want to increase the number of iterations, check the scale of the features or consider increasing regularisation. Duality gap: 4.476e+02, tolerance: 3.492e+02\n",
      "  model = cd_fast.enet_coordinate_descent(\n"
     ]
    },
    {
     "data": {
      "image/png": "[encoded data removed]",
      "text/plain": [
       "<Figure size 640x480 with 1 Axes>"
      ]
     },
     "metadata": {},
     "output_type": "display_data"
    }
   ],
   "source": [
    "# 라쏘회귀\n",
    "from sklearn.linear_model import Lasso\n",
    "lasso = Lasso()\n",
    "lasso.fit(x_train_scaled, y_train)\n",
    "print(lasso.score(x_train_scaled, y_train))\n",
    "print(lasso.score(x_test_scaled, y_test))\n",
    "\n",
    "train_score = []\n",
    "test_score = []\n",
    "for alpha in alpha_list:\n",
    "    lasso = Lasso(alpha=alpha, max_iter=10000)\n",
    "    lasso.fit(x_train_scaled, y_train)\n",
    "    train_score.append(lasso.score(x_train_scaled, y_train))\n",
    "    test_score.append(lasso.score(x_test_scaled, y_test))\n",
    "    \n",
    "plt.plot(np.log10(alpha_list), train_score)\n",
    "plt.plot(np.log10(alpha_list),test_score)\n",
    "# alpha =10가 나은듯\n",
    "\n",
    "lasso = Lasso(alpha=10)\n",
    "lasso.fit(x_train_scaled,y_train)\n",
    "print(lasso.score(x_train_scaled, y_train))\n",
    "print(lasso.score(x_test_scaled, y_test))\n",
    "# 그럼에도 과대적합이 일어났다 망햇다.\n"
   ]
  }
 ],
 "metadata": {
  "kernelspec": {
   "display_name": "Python 3",
   "language": "python",
   "name": "python3"
  },
  "language_info": {
   "codemirror_mode": {
    "name": "ipython",
    "version": 3
   },
   "file_extension": ".py",
   "mimetype": "text/x-python",
   "name": "python",
   "nbconvert_exporter": "python",
   "pygments_lexer": "ipython3",
   "version": "3.11.5"
  },
  "orig_nbformat": 4
 },
 "nbformat": 4,
 "nbformat_minor": 2
}
